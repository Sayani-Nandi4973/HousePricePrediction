{
 "cells": [
  {
   "cell_type": "markdown",
   "id": "8e7e57c4",
   "metadata": {},
   "source": [
    "# House price prediction"
   ]
  },
  {
   "cell_type": "code",
   "execution_count": 1,
   "id": "9c7365c0",
   "metadata": {},
   "outputs": [
    {
     "data": {
      "text/html": [
       "<div>\n",
       "<style scoped>\n",
       "    .dataframe tbody tr th:only-of-type {\n",
       "        vertical-align: middle;\n",
       "    }\n",
       "\n",
       "    .dataframe tbody tr th {\n",
       "        vertical-align: top;\n",
       "    }\n",
       "\n",
       "    .dataframe thead th {\n",
       "        text-align: right;\n",
       "    }\n",
       "</style>\n",
       "<table border=\"1\" class=\"dataframe\">\n",
       "  <thead>\n",
       "    <tr style=\"text-align: right;\">\n",
       "      <th></th>\n",
       "      <th>Unnamed: 0</th>\n",
       "      <th>Address</th>\n",
       "      <th>Zip</th>\n",
       "      <th>Price</th>\n",
       "      <th>Area</th>\n",
       "      <th>Room</th>\n",
       "      <th>Lon</th>\n",
       "      <th>Lat</th>\n",
       "    </tr>\n",
       "  </thead>\n",
       "  <tbody>\n",
       "    <tr>\n",
       "      <th>0</th>\n",
       "      <td>1</td>\n",
       "      <td>Blasiusstraat 8 2, Amsterdam</td>\n",
       "      <td>1091 CR</td>\n",
       "      <td>685000.0</td>\n",
       "      <td>64</td>\n",
       "      <td>3</td>\n",
       "      <td>4.907736</td>\n",
       "      <td>52.356157</td>\n",
       "    </tr>\n",
       "    <tr>\n",
       "      <th>1</th>\n",
       "      <td>2</td>\n",
       "      <td>Kromme Leimuidenstraat 13 H, Amsterdam</td>\n",
       "      <td>1059 EL</td>\n",
       "      <td>475000.0</td>\n",
       "      <td>60</td>\n",
       "      <td>3</td>\n",
       "      <td>4.850476</td>\n",
       "      <td>52.348586</td>\n",
       "    </tr>\n",
       "    <tr>\n",
       "      <th>2</th>\n",
       "      <td>3</td>\n",
       "      <td>Zaaiersweg 11 A, Amsterdam</td>\n",
       "      <td>1097 SM</td>\n",
       "      <td>850000.0</td>\n",
       "      <td>109</td>\n",
       "      <td>4</td>\n",
       "      <td>4.944774</td>\n",
       "      <td>52.343782</td>\n",
       "    </tr>\n",
       "    <tr>\n",
       "      <th>3</th>\n",
       "      <td>4</td>\n",
       "      <td>Tenerifestraat 40, Amsterdam</td>\n",
       "      <td>1060 TH</td>\n",
       "      <td>580000.0</td>\n",
       "      <td>128</td>\n",
       "      <td>6</td>\n",
       "      <td>4.789928</td>\n",
       "      <td>52.343712</td>\n",
       "    </tr>\n",
       "    <tr>\n",
       "      <th>4</th>\n",
       "      <td>5</td>\n",
       "      <td>Winterjanpad 21, Amsterdam</td>\n",
       "      <td>1036 KN</td>\n",
       "      <td>720000.0</td>\n",
       "      <td>138</td>\n",
       "      <td>5</td>\n",
       "      <td>4.902503</td>\n",
       "      <td>52.410538</td>\n",
       "    </tr>\n",
       "    <tr>\n",
       "      <th>5</th>\n",
       "      <td>6</td>\n",
       "      <td>De Wittenkade 134 I, Amsterdam</td>\n",
       "      <td>1051 AM</td>\n",
       "      <td>450000.0</td>\n",
       "      <td>53</td>\n",
       "      <td>2</td>\n",
       "      <td>4.875024</td>\n",
       "      <td>52.382228</td>\n",
       "    </tr>\n",
       "    <tr>\n",
       "      <th>6</th>\n",
       "      <td>7</td>\n",
       "      <td>Pruimenstraat 18 B, Amsterdam</td>\n",
       "      <td>1033 KM</td>\n",
       "      <td>450000.0</td>\n",
       "      <td>87</td>\n",
       "      <td>3</td>\n",
       "      <td>4.896536</td>\n",
       "      <td>52.410585</td>\n",
       "    </tr>\n",
       "    <tr>\n",
       "      <th>7</th>\n",
       "      <td>8</td>\n",
       "      <td>Da Costakade 32 II, Amsterdam</td>\n",
       "      <td>1053 WL</td>\n",
       "      <td>590000.0</td>\n",
       "      <td>80</td>\n",
       "      <td>2</td>\n",
       "      <td>4.871555</td>\n",
       "      <td>52.371041</td>\n",
       "    </tr>\n",
       "    <tr>\n",
       "      <th>8</th>\n",
       "      <td>9</td>\n",
       "      <td>Postjeskade 41 2, Amsterdam</td>\n",
       "      <td>1058 DG</td>\n",
       "      <td>399000.0</td>\n",
       "      <td>49</td>\n",
       "      <td>3</td>\n",
       "      <td>4.854671</td>\n",
       "      <td>52.363471</td>\n",
       "    </tr>\n",
       "    <tr>\n",
       "      <th>9</th>\n",
       "      <td>10</td>\n",
       "      <td>Van Ostadestraat 193 H, Amsterdam</td>\n",
       "      <td>1073 TM</td>\n",
       "      <td>300000.0</td>\n",
       "      <td>33</td>\n",
       "      <td>2</td>\n",
       "      <td>4.897142</td>\n",
       "      <td>52.353111</td>\n",
       "    </tr>\n",
       "  </tbody>\n",
       "</table>\n",
       "</div>"
      ],
      "text/plain": [
       "   Unnamed: 0                                 Address      Zip     Price  \\\n",
       "0           1            Blasiusstraat 8 2, Amsterdam  1091 CR  685000.0   \n",
       "1           2  Kromme Leimuidenstraat 13 H, Amsterdam  1059 EL  475000.0   \n",
       "2           3              Zaaiersweg 11 A, Amsterdam  1097 SM  850000.0   \n",
       "3           4            Tenerifestraat 40, Amsterdam  1060 TH  580000.0   \n",
       "4           5              Winterjanpad 21, Amsterdam  1036 KN  720000.0   \n",
       "5           6          De Wittenkade 134 I, Amsterdam  1051 AM  450000.0   \n",
       "6           7           Pruimenstraat 18 B, Amsterdam  1033 KM  450000.0   \n",
       "7           8           Da Costakade 32 II, Amsterdam  1053 WL  590000.0   \n",
       "8           9             Postjeskade 41 2, Amsterdam  1058 DG  399000.0   \n",
       "9          10       Van Ostadestraat 193 H, Amsterdam  1073 TM  300000.0   \n",
       "\n",
       "   Area  Room       Lon        Lat  \n",
       "0    64     3  4.907736  52.356157  \n",
       "1    60     3  4.850476  52.348586  \n",
       "2   109     4  4.944774  52.343782  \n",
       "3   128     6  4.789928  52.343712  \n",
       "4   138     5  4.902503  52.410538  \n",
       "5    53     2  4.875024  52.382228  \n",
       "6    87     3  4.896536  52.410585  \n",
       "7    80     2  4.871555  52.371041  \n",
       "8    49     3  4.854671  52.363471  \n",
       "9    33     2  4.897142  52.353111  "
      ]
     },
     "execution_count": 1,
     "metadata": {},
     "output_type": "execute_result"
    }
   ],
   "source": [
    "import pandas as pd\n",
    "df = pd.read_csv('house_price.csv')\n",
    "df.head(10)"
   ]
  },
  {
   "cell_type": "code",
   "execution_count": 2,
   "id": "7f193e45",
   "metadata": {},
   "outputs": [
    {
     "data": {
      "text/plain": [
       "(924, 8)"
      ]
     },
     "execution_count": 2,
     "metadata": {},
     "output_type": "execute_result"
    }
   ],
   "source": [
    "df.shape"
   ]
  },
  {
   "cell_type": "code",
   "execution_count": 3,
   "id": "b5c7e00d",
   "metadata": {},
   "outputs": [
    {
     "data": {
      "text/plain": [
       "Unnamed: 0    0\n",
       "Address       0\n",
       "Zip           0\n",
       "Price         4\n",
       "Area          0\n",
       "Room          0\n",
       "Lon           0\n",
       "Lat           0\n",
       "dtype: int64"
      ]
     },
     "execution_count": 3,
     "metadata": {},
     "output_type": "execute_result"
    }
   ],
   "source": [
    "#to check is there any null value or not\n",
    "df.isnull().sum()"
   ]
  },
  {
   "cell_type": "code",
   "execution_count": 4,
   "id": "ad41b660",
   "metadata": {},
   "outputs": [],
   "source": [
    "df = df.drop('Unnamed: 0', axis = 1)"
   ]
  },
  {
   "cell_type": "code",
   "execution_count": 5,
   "id": "e553f68c",
   "metadata": {},
   "outputs": [
    {
     "data": {
      "text/plain": [
       "<AxesSubplot:>"
      ]
     },
     "execution_count": 5,
     "metadata": {},
     "output_type": "execute_result"
    },
    {
     "data": {
      "image/png": "[encoded data removed]",
      "text/plain": [
       "<Figure size 640x480 with 1 Axes>"
      ]
     },
     "metadata": {},
     "output_type": "display_data"
    }
   ],
   "source": [
    "# to check skewness of the data\n",
    "df['Price'].hist(grid=False)"
   ]
  },
  {
   "cell_type": "code",
   "execution_count": 6,
   "id": "0b26ffa9",
   "metadata": {},
   "outputs": [
    {
     "data": {
      "text/plain": [
       "4.828817373245922"
      ]
     },
     "execution_count": 6,
     "metadata": {},
     "output_type": "execute_result"
    }
   ],
   "source": [
    "df['Price'].skew()"
   ]
  },
  {
   "cell_type": "code",
   "execution_count": 7,
   "id": "c58e945f",
   "metadata": {},
   "outputs": [
    {
     "name": "stderr",
     "output_type": "stream",
     "text": [
      "C:\\Users\\pousalo\\anaconda3\\lib\\site-packages\\seaborn\\distributions.py:2619: FutureWarning: `distplot` is a deprecated function and will be removed in a future version. Please adapt your code to use either `displot` (a figure-level function with similar flexibility) or `histplot` (an axes-level function for histograms).\n",
      "  warnings.warn(msg, FutureWarning)\n"
     ]
    },
    {
     "data": {
      "text/plain": [
       "<AxesSubplot:xlabel='Price', ylabel='Density'>"
      ]
     },
     "execution_count": 7,
     "metadata": {},
     "output_type": "execute_result"
    },
    {
     "data": {
      "image/png": "[encoded data removed]",
      "text/plain": [
       "<Figure size 640x480 with 1 Axes>"
      ]
     },
     "metadata": {},
     "output_type": "display_data"
    }
   ],
   "source": [
    "import seaborn as sns\n",
    "sns.distplot(df['Price'],hist =True)"
   ]
  },
  {
   "cell_type": "code",
   "execution_count": 8,
   "id": "8697070f",
   "metadata": {},
   "outputs": [
    {
     "data": {
      "text/plain": [
       "0      13.437174\n",
       "1      13.071070\n",
       "2      13.652992\n",
       "3      13.270783\n",
       "4      13.487006\n",
       "         ...    \n",
       "919    13.527828\n",
       "920    12.765688\n",
       "921    12.765688\n",
       "922    13.303017\n",
       "923    12.611538\n",
       "Name: Price, Length: 924, dtype: float64"
      ]
     },
     "execution_count": 8,
     "metadata": {},
     "output_type": "execute_result"
    }
   ],
   "source": [
    "import numpy as np\n",
    "log_nor=np.log(df['Price'])\n",
    "log_nor"
   ]
  },
  {
   "cell_type": "code",
   "execution_count": 9,
   "id": "3fd2e9b5",
   "metadata": {},
   "outputs": [
    {
     "data": {
      "text/plain": [
       "1.077502598289587"
      ]
     },
     "execution_count": 9,
     "metadata": {},
     "output_type": "execute_result"
    }
   ],
   "source": [
    "log_nor.skew()"
   ]
  },
  {
   "cell_type": "code",
   "execution_count": 10,
   "id": "afb0834a",
   "metadata": {},
   "outputs": [
    {
     "data": {
      "text/plain": [
       "0.0"
      ]
     },
     "execution_count": 10,
     "metadata": {},
     "output_type": "execute_result"
    }
   ],
   "source": [
    "reci=np.reciprocal(df['Price'])\n",
    "reci.skew()"
   ]
  },
  {
   "cell_type": "code",
   "execution_count": 11,
   "id": "b6828204",
   "metadata": {},
   "outputs": [],
   "source": [
    "df['Price'].fillna(df['Price'].median(),inplace=True)"
   ]
  },
  {
   "cell_type": "code",
   "execution_count": 12,
   "id": "d4c2859e",
   "metadata": {},
   "outputs": [
    {
     "data": {
      "text/plain": [
       "Address    0\n",
       "Zip        0\n",
       "Price      0\n",
       "Area       0\n",
       "Room       0\n",
       "Lon        0\n",
       "Lat        0\n",
       "dtype: int64"
      ]
     },
     "execution_count": 12,
     "metadata": {},
     "output_type": "execute_result"
    }
   ],
   "source": [
    "df.isnull().sum()"
   ]
  },
  {
   "cell_type": "code",
   "execution_count": 13,
   "id": "d9464de3",
   "metadata": {},
   "outputs": [],
   "source": [
    "#for practice only how to use label_encoder\n",
    "#from sklearn.preprocessing import LabelEncoder"
   ]
  },
  {
   "cell_type": "code",
   "execution_count": 14,
   "id": "ce2e69a5",
   "metadata": {},
   "outputs": [],
   "source": [
    "#le_Address=LabelEncoder()\n",
    "#new_df[\"Num_address\"]=le_Address.fit_transform(new_df['Address'])"
   ]
  },
  {
   "cell_type": "code",
   "execution_count": 15,
   "id": "c0d432c5",
   "metadata": {},
   "outputs": [
    {
     "data": {
      "text/html": [
       "<div>\n",
       "<style scoped>\n",
       "    .dataframe tbody tr th:only-of-type {\n",
       "        vertical-align: middle;\n",
       "    }\n",
       "\n",
       "    .dataframe tbody tr th {\n",
       "        vertical-align: top;\n",
       "    }\n",
       "\n",
       "    .dataframe thead th {\n",
       "        text-align: right;\n",
       "    }\n",
       "</style>\n",
       "<table border=\"1\" class=\"dataframe\">\n",
       "  <thead>\n",
       "    <tr style=\"text-align: right;\">\n",
       "      <th></th>\n",
       "      <th>Zip</th>\n",
       "      <th>Price</th>\n",
       "      <th>Area</th>\n",
       "      <th>Room</th>\n",
       "      <th>Lon</th>\n",
       "      <th>Lat</th>\n",
       "    </tr>\n",
       "  </thead>\n",
       "  <tbody>\n",
       "    <tr>\n",
       "      <th>0</th>\n",
       "      <td>1091 CR</td>\n",
       "      <td>685000.0</td>\n",
       "      <td>64</td>\n",
       "      <td>3</td>\n",
       "      <td>4.907736</td>\n",
       "      <td>52.356157</td>\n",
       "    </tr>\n",
       "    <tr>\n",
       "      <th>1</th>\n",
       "      <td>1059 EL</td>\n",
       "      <td>475000.0</td>\n",
       "      <td>60</td>\n",
       "      <td>3</td>\n",
       "      <td>4.850476</td>\n",
       "      <td>52.348586</td>\n",
       "    </tr>\n",
       "    <tr>\n",
       "      <th>2</th>\n",
       "      <td>1097 SM</td>\n",
       "      <td>850000.0</td>\n",
       "      <td>109</td>\n",
       "      <td>4</td>\n",
       "      <td>4.944774</td>\n",
       "      <td>52.343782</td>\n",
       "    </tr>\n",
       "    <tr>\n",
       "      <th>3</th>\n",
       "      <td>1060 TH</td>\n",
       "      <td>580000.0</td>\n",
       "      <td>128</td>\n",
       "      <td>6</td>\n",
       "      <td>4.789928</td>\n",
       "      <td>52.343712</td>\n",
       "    </tr>\n",
       "    <tr>\n",
       "      <th>4</th>\n",
       "      <td>1036 KN</td>\n",
       "      <td>720000.0</td>\n",
       "      <td>138</td>\n",
       "      <td>5</td>\n",
       "      <td>4.902503</td>\n",
       "      <td>52.410538</td>\n",
       "    </tr>\n",
       "    <tr>\n",
       "      <th>...</th>\n",
       "      <td>...</td>\n",
       "      <td>...</td>\n",
       "      <td>...</td>\n",
       "      <td>...</td>\n",
       "      <td>...</td>\n",
       "      <td>...</td>\n",
       "    </tr>\n",
       "    <tr>\n",
       "      <th>919</th>\n",
       "      <td>1097 AE</td>\n",
       "      <td>750000.0</td>\n",
       "      <td>117</td>\n",
       "      <td>1</td>\n",
       "      <td>4.927757</td>\n",
       "      <td>52.354173</td>\n",
       "    </tr>\n",
       "    <tr>\n",
       "      <th>920</th>\n",
       "      <td>1033 CP</td>\n",
       "      <td>350000.0</td>\n",
       "      <td>72</td>\n",
       "      <td>3</td>\n",
       "      <td>4.890612</td>\n",
       "      <td>52.414587</td>\n",
       "    </tr>\n",
       "    <tr>\n",
       "      <th>921</th>\n",
       "      <td>1058 AK</td>\n",
       "      <td>350000.0</td>\n",
       "      <td>51</td>\n",
       "      <td>3</td>\n",
       "      <td>4.856935</td>\n",
       "      <td>52.363256</td>\n",
       "    </tr>\n",
       "    <tr>\n",
       "      <th>922</th>\n",
       "      <td>1095 MB</td>\n",
       "      <td>599000.0</td>\n",
       "      <td>113</td>\n",
       "      <td>4</td>\n",
       "      <td>4.965731</td>\n",
       "      <td>52.375268</td>\n",
       "    </tr>\n",
       "    <tr>\n",
       "      <th>923</th>\n",
       "      <td>1068 JS</td>\n",
       "      <td>300000.0</td>\n",
       "      <td>79</td>\n",
       "      <td>4</td>\n",
       "      <td>4.810678</td>\n",
       "      <td>52.355493</td>\n",
       "    </tr>\n",
       "  </tbody>\n",
       "</table>\n",
       "<p>924 rows × 6 columns</p>\n",
       "</div>"
      ],
      "text/plain": [
       "         Zip     Price  Area  Room       Lon        Lat\n",
       "0    1091 CR  685000.0    64     3  4.907736  52.356157\n",
       "1    1059 EL  475000.0    60     3  4.850476  52.348586\n",
       "2    1097 SM  850000.0   109     4  4.944774  52.343782\n",
       "3    1060 TH  580000.0   128     6  4.789928  52.343712\n",
       "4    1036 KN  720000.0   138     5  4.902503  52.410538\n",
       "..       ...       ...   ...   ...       ...        ...\n",
       "919  1097 AE  750000.0   117     1  4.927757  52.354173\n",
       "920  1033 CP  350000.0    72     3  4.890612  52.414587\n",
       "921  1058 AK  350000.0    51     3  4.856935  52.363256\n",
       "922  1095 MB  599000.0   113     4  4.965731  52.375268\n",
       "923  1068 JS  300000.0    79     4  4.810678  52.355493\n",
       "\n",
       "[924 rows x 6 columns]"
      ]
     },
     "execution_count": 15,
     "metadata": {},
     "output_type": "execute_result"
    }
   ],
   "source": [
    "new_d1=df.drop(['Address'],axis='columns')\n",
    "new_d1"
   ]
  },
  {
   "cell_type": "code",
   "execution_count": 16,
   "id": "152eb7cb",
   "metadata": {},
   "outputs": [
    {
     "data": {
      "text/html": [
       "<div>\n",
       "<style scoped>\n",
       "    .dataframe tbody tr th:only-of-type {\n",
       "        vertical-align: middle;\n",
       "    }\n",
       "\n",
       "    .dataframe tbody tr th {\n",
       "        vertical-align: top;\n",
       "    }\n",
       "\n",
       "    .dataframe thead th {\n",
       "        text-align: right;\n",
       "    }\n",
       "</style>\n",
       "<table border=\"1\" class=\"dataframe\">\n",
       "  <thead>\n",
       "    <tr style=\"text-align: right;\">\n",
       "      <th></th>\n",
       "      <th>Price</th>\n",
       "      <th>Area</th>\n",
       "      <th>Room</th>\n",
       "      <th>Lon</th>\n",
       "      <th>Lat</th>\n",
       "    </tr>\n",
       "  </thead>\n",
       "  <tbody>\n",
       "    <tr>\n",
       "      <th>0</th>\n",
       "      <td>685000.0</td>\n",
       "      <td>64</td>\n",
       "      <td>3</td>\n",
       "      <td>4.907736</td>\n",
       "      <td>52.356157</td>\n",
       "    </tr>\n",
       "    <tr>\n",
       "      <th>1</th>\n",
       "      <td>475000.0</td>\n",
       "      <td>60</td>\n",
       "      <td>3</td>\n",
       "      <td>4.850476</td>\n",
       "      <td>52.348586</td>\n",
       "    </tr>\n",
       "    <tr>\n",
       "      <th>2</th>\n",
       "      <td>850000.0</td>\n",
       "      <td>109</td>\n",
       "      <td>4</td>\n",
       "      <td>4.944774</td>\n",
       "      <td>52.343782</td>\n",
       "    </tr>\n",
       "    <tr>\n",
       "      <th>3</th>\n",
       "      <td>580000.0</td>\n",
       "      <td>128</td>\n",
       "      <td>6</td>\n",
       "      <td>4.789928</td>\n",
       "      <td>52.343712</td>\n",
       "    </tr>\n",
       "    <tr>\n",
       "      <th>4</th>\n",
       "      <td>720000.0</td>\n",
       "      <td>138</td>\n",
       "      <td>5</td>\n",
       "      <td>4.902503</td>\n",
       "      <td>52.410538</td>\n",
       "    </tr>\n",
       "    <tr>\n",
       "      <th>...</th>\n",
       "      <td>...</td>\n",
       "      <td>...</td>\n",
       "      <td>...</td>\n",
       "      <td>...</td>\n",
       "      <td>...</td>\n",
       "    </tr>\n",
       "    <tr>\n",
       "      <th>919</th>\n",
       "      <td>750000.0</td>\n",
       "      <td>117</td>\n",
       "      <td>1</td>\n",
       "      <td>4.927757</td>\n",
       "      <td>52.354173</td>\n",
       "    </tr>\n",
       "    <tr>\n",
       "      <th>920</th>\n",
       "      <td>350000.0</td>\n",
       "      <td>72</td>\n",
       "      <td>3</td>\n",
       "      <td>4.890612</td>\n",
       "      <td>52.414587</td>\n",
       "    </tr>\n",
       "    <tr>\n",
       "      <th>921</th>\n",
       "      <td>350000.0</td>\n",
       "      <td>51</td>\n",
       "      <td>3</td>\n",
       "      <td>4.856935</td>\n",
       "      <td>52.363256</td>\n",
       "    </tr>\n",
       "    <tr>\n",
       "      <th>922</th>\n",
       "      <td>599000.0</td>\n",
       "      <td>113</td>\n",
       "      <td>4</td>\n",
       "      <td>4.965731</td>\n",
       "      <td>52.375268</td>\n",
       "    </tr>\n",
       "    <tr>\n",
       "      <th>923</th>\n",
       "      <td>300000.0</td>\n",
       "      <td>79</td>\n",
       "      <td>4</td>\n",
       "      <td>4.810678</td>\n",
       "      <td>52.355493</td>\n",
       "    </tr>\n",
       "  </tbody>\n",
       "</table>\n",
       "<p>924 rows × 5 columns</p>\n",
       "</div>"
      ],
      "text/plain": [
       "        Price  Area  Room       Lon        Lat\n",
       "0    685000.0    64     3  4.907736  52.356157\n",
       "1    475000.0    60     3  4.850476  52.348586\n",
       "2    850000.0   109     4  4.944774  52.343782\n",
       "3    580000.0   128     6  4.789928  52.343712\n",
       "4    720000.0   138     5  4.902503  52.410538\n",
       "..        ...   ...   ...       ...        ...\n",
       "919  750000.0   117     1  4.927757  52.354173\n",
       "920  350000.0    72     3  4.890612  52.414587\n",
       "921  350000.0    51     3  4.856935  52.363256\n",
       "922  599000.0   113     4  4.965731  52.375268\n",
       "923  300000.0    79     4  4.810678  52.355493\n",
       "\n",
       "[924 rows x 5 columns]"
      ]
     },
     "execution_count": 16,
     "metadata": {},
     "output_type": "execute_result"
    }
   ],
   "source": [
    "new_d2=new_d1.drop(['Zip'],axis='columns')\n",
    "new_d2"
   ]
  },
  {
   "cell_type": "code",
   "execution_count": 17,
   "id": "24627e9d",
   "metadata": {},
   "outputs": [
    {
     "data": {
      "text/html": [
       "<div>\n",
       "<style scoped>\n",
       "    .dataframe tbody tr th:only-of-type {\n",
       "        vertical-align: middle;\n",
       "    }\n",
       "\n",
       "    .dataframe tbody tr th {\n",
       "        vertical-align: top;\n",
       "    }\n",
       "\n",
       "    .dataframe thead th {\n",
       "        text-align: right;\n",
       "    }\n",
       "</style>\n",
       "<table border=\"1\" class=\"dataframe\">\n",
       "  <thead>\n",
       "    <tr style=\"text-align: right;\">\n",
       "      <th></th>\n",
       "      <th>Price</th>\n",
       "      <th>Area</th>\n",
       "      <th>Room</th>\n",
       "      <th>Lat</th>\n",
       "    </tr>\n",
       "  </thead>\n",
       "  <tbody>\n",
       "    <tr>\n",
       "      <th>0</th>\n",
       "      <td>685000.0</td>\n",
       "      <td>64</td>\n",
       "      <td>3</td>\n",
       "      <td>52.356157</td>\n",
       "    </tr>\n",
       "    <tr>\n",
       "      <th>1</th>\n",
       "      <td>475000.0</td>\n",
       "      <td>60</td>\n",
       "      <td>3</td>\n",
       "      <td>52.348586</td>\n",
       "    </tr>\n",
       "    <tr>\n",
       "      <th>2</th>\n",
       "      <td>850000.0</td>\n",
       "      <td>109</td>\n",
       "      <td>4</td>\n",
       "      <td>52.343782</td>\n",
       "    </tr>\n",
       "    <tr>\n",
       "      <th>3</th>\n",
       "      <td>580000.0</td>\n",
       "      <td>128</td>\n",
       "      <td>6</td>\n",
       "      <td>52.343712</td>\n",
       "    </tr>\n",
       "    <tr>\n",
       "      <th>4</th>\n",
       "      <td>720000.0</td>\n",
       "      <td>138</td>\n",
       "      <td>5</td>\n",
       "      <td>52.410538</td>\n",
       "    </tr>\n",
       "    <tr>\n",
       "      <th>...</th>\n",
       "      <td>...</td>\n",
       "      <td>...</td>\n",
       "      <td>...</td>\n",
       "      <td>...</td>\n",
       "    </tr>\n",
       "    <tr>\n",
       "      <th>919</th>\n",
       "      <td>750000.0</td>\n",
       "      <td>117</td>\n",
       "      <td>1</td>\n",
       "      <td>52.354173</td>\n",
       "    </tr>\n",
       "    <tr>\n",
       "      <th>920</th>\n",
       "      <td>350000.0</td>\n",
       "      <td>72</td>\n",
       "      <td>3</td>\n",
       "      <td>52.414587</td>\n",
       "    </tr>\n",
       "    <tr>\n",
       "      <th>921</th>\n",
       "      <td>350000.0</td>\n",
       "      <td>51</td>\n",
       "      <td>3</td>\n",
       "      <td>52.363256</td>\n",
       "    </tr>\n",
       "    <tr>\n",
       "      <th>922</th>\n",
       "      <td>599000.0</td>\n",
       "      <td>113</td>\n",
       "      <td>4</td>\n",
       "      <td>52.375268</td>\n",
       "    </tr>\n",
       "    <tr>\n",
       "      <th>923</th>\n",
       "      <td>300000.0</td>\n",
       "      <td>79</td>\n",
       "      <td>4</td>\n",
       "      <td>52.355493</td>\n",
       "    </tr>\n",
       "  </tbody>\n",
       "</table>\n",
       "<p>924 rows × 4 columns</p>\n",
       "</div>"
      ],
      "text/plain": [
       "        Price  Area  Room        Lat\n",
       "0    685000.0    64     3  52.356157\n",
       "1    475000.0    60     3  52.348586\n",
       "2    850000.0   109     4  52.343782\n",
       "3    580000.0   128     6  52.343712\n",
       "4    720000.0   138     5  52.410538\n",
       "..        ...   ...   ...        ...\n",
       "919  750000.0   117     1  52.354173\n",
       "920  350000.0    72     3  52.414587\n",
       "921  350000.0    51     3  52.363256\n",
       "922  599000.0   113     4  52.375268\n",
       "923  300000.0    79     4  52.355493\n",
       "\n",
       "[924 rows x 4 columns]"
      ]
     },
     "execution_count": 17,
     "metadata": {},
     "output_type": "execute_result"
    }
   ],
   "source": [
    "new_d3=new_d2.drop(['Lon'],axis='columns')\n",
    "new_d3"
   ]
  },
  {
   "cell_type": "code",
   "execution_count": 18,
   "id": "9744dc01",
   "metadata": {},
   "outputs": [
    {
     "data": {
      "text/html": [
       "<div>\n",
       "<style scoped>\n",
       "    .dataframe tbody tr th:only-of-type {\n",
       "        vertical-align: middle;\n",
       "    }\n",
       "\n",
       "    .dataframe tbody tr th {\n",
       "        vertical-align: top;\n",
       "    }\n",
       "\n",
       "    .dataframe thead th {\n",
       "        text-align: right;\n",
       "    }\n",
       "</style>\n",
       "<table border=\"1\" class=\"dataframe\">\n",
       "  <thead>\n",
       "    <tr style=\"text-align: right;\">\n",
       "      <th></th>\n",
       "      <th>Price</th>\n",
       "      <th>Area</th>\n",
       "      <th>Room</th>\n",
       "    </tr>\n",
       "  </thead>\n",
       "  <tbody>\n",
       "    <tr>\n",
       "      <th>0</th>\n",
       "      <td>685000.0</td>\n",
       "      <td>64</td>\n",
       "      <td>3</td>\n",
       "    </tr>\n",
       "    <tr>\n",
       "      <th>1</th>\n",
       "      <td>475000.0</td>\n",
       "      <td>60</td>\n",
       "      <td>3</td>\n",
       "    </tr>\n",
       "    <tr>\n",
       "      <th>2</th>\n",
       "      <td>850000.0</td>\n",
       "      <td>109</td>\n",
       "      <td>4</td>\n",
       "    </tr>\n",
       "    <tr>\n",
       "      <th>3</th>\n",
       "      <td>580000.0</td>\n",
       "      <td>128</td>\n",
       "      <td>6</td>\n",
       "    </tr>\n",
       "    <tr>\n",
       "      <th>4</th>\n",
       "      <td>720000.0</td>\n",
       "      <td>138</td>\n",
       "      <td>5</td>\n",
       "    </tr>\n",
       "    <tr>\n",
       "      <th>...</th>\n",
       "      <td>...</td>\n",
       "      <td>...</td>\n",
       "      <td>...</td>\n",
       "    </tr>\n",
       "    <tr>\n",
       "      <th>919</th>\n",
       "      <td>750000.0</td>\n",
       "      <td>117</td>\n",
       "      <td>1</td>\n",
       "    </tr>\n",
       "    <tr>\n",
       "      <th>920</th>\n",
       "      <td>350000.0</td>\n",
       "      <td>72</td>\n",
       "      <td>3</td>\n",
       "    </tr>\n",
       "    <tr>\n",
       "      <th>921</th>\n",
       "      <td>350000.0</td>\n",
       "      <td>51</td>\n",
       "      <td>3</td>\n",
       "    </tr>\n",
       "    <tr>\n",
       "      <th>922</th>\n",
       "      <td>599000.0</td>\n",
       "      <td>113</td>\n",
       "      <td>4</td>\n",
       "    </tr>\n",
       "    <tr>\n",
       "      <th>923</th>\n",
       "      <td>300000.0</td>\n",
       "      <td>79</td>\n",
       "      <td>4</td>\n",
       "    </tr>\n",
       "  </tbody>\n",
       "</table>\n",
       "<p>924 rows × 3 columns</p>\n",
       "</div>"
      ],
      "text/plain": [
       "        Price  Area  Room\n",
       "0    685000.0    64     3\n",
       "1    475000.0    60     3\n",
       "2    850000.0   109     4\n",
       "3    580000.0   128     6\n",
       "4    720000.0   138     5\n",
       "..        ...   ...   ...\n",
       "919  750000.0   117     1\n",
       "920  350000.0    72     3\n",
       "921  350000.0    51     3\n",
       "922  599000.0   113     4\n",
       "923  300000.0    79     4\n",
       "\n",
       "[924 rows x 3 columns]"
      ]
     },
     "execution_count": 18,
     "metadata": {},
     "output_type": "execute_result"
    }
   ],
   "source": [
    "dataframe=new_d3.drop(['Lat'],axis='columns')\n",
    "dataframe"
   ]
  },
  {
   "cell_type": "code",
   "execution_count": 19,
   "id": "bbd902b7",
   "metadata": {},
   "outputs": [],
   "source": [
    "#new_df=df.drop('Num_address',axis='columns')"
   ]
  },
  {
   "cell_type": "code",
   "execution_count": 20,
   "id": "337dc46a",
   "metadata": {},
   "outputs": [],
   "source": [
    "x = dataframe[['Area','Room']]\n",
    "y = dataframe[['Price']]"
   ]
  },
  {
   "cell_type": "code",
   "execution_count": 21,
   "id": "ae77c776",
   "metadata": {},
   "outputs": [
    {
     "data": {
      "text/html": [
       "<div>\n",
       "<style scoped>\n",
       "    .dataframe tbody tr th:only-of-type {\n",
       "        vertical-align: middle;\n",
       "    }\n",
       "\n",
       "    .dataframe tbody tr th {\n",
       "        vertical-align: top;\n",
       "    }\n",
       "\n",
       "    .dataframe thead th {\n",
       "        text-align: right;\n",
       "    }\n",
       "</style>\n",
       "<table border=\"1\" class=\"dataframe\">\n",
       "  <thead>\n",
       "    <tr style=\"text-align: right;\">\n",
       "      <th></th>\n",
       "      <th>Area</th>\n",
       "      <th>Room</th>\n",
       "    </tr>\n",
       "  </thead>\n",
       "  <tbody>\n",
       "    <tr>\n",
       "      <th>0</th>\n",
       "      <td>64</td>\n",
       "      <td>3</td>\n",
       "    </tr>\n",
       "    <tr>\n",
       "      <th>1</th>\n",
       "      <td>60</td>\n",
       "      <td>3</td>\n",
       "    </tr>\n",
       "    <tr>\n",
       "      <th>2</th>\n",
       "      <td>109</td>\n",
       "      <td>4</td>\n",
       "    </tr>\n",
       "    <tr>\n",
       "      <th>3</th>\n",
       "      <td>128</td>\n",
       "      <td>6</td>\n",
       "    </tr>\n",
       "    <tr>\n",
       "      <th>4</th>\n",
       "      <td>138</td>\n",
       "      <td>5</td>\n",
       "    </tr>\n",
       "    <tr>\n",
       "      <th>...</th>\n",
       "      <td>...</td>\n",
       "      <td>...</td>\n",
       "    </tr>\n",
       "    <tr>\n",
       "      <th>919</th>\n",
       "      <td>117</td>\n",
       "      <td>1</td>\n",
       "    </tr>\n",
       "    <tr>\n",
       "      <th>920</th>\n",
       "      <td>72</td>\n",
       "      <td>3</td>\n",
       "    </tr>\n",
       "    <tr>\n",
       "      <th>921</th>\n",
       "      <td>51</td>\n",
       "      <td>3</td>\n",
       "    </tr>\n",
       "    <tr>\n",
       "      <th>922</th>\n",
       "      <td>113</td>\n",
       "      <td>4</td>\n",
       "    </tr>\n",
       "    <tr>\n",
       "      <th>923</th>\n",
       "      <td>79</td>\n",
       "      <td>4</td>\n",
       "    </tr>\n",
       "  </tbody>\n",
       "</table>\n",
       "<p>924 rows × 2 columns</p>\n",
       "</div>"
      ],
      "text/plain": [
       "     Area  Room\n",
       "0      64     3\n",
       "1      60     3\n",
       "2     109     4\n",
       "3     128     6\n",
       "4     138     5\n",
       "..    ...   ...\n",
       "919   117     1\n",
       "920    72     3\n",
       "921    51     3\n",
       "922   113     4\n",
       "923    79     4\n",
       "\n",
       "[924 rows x 2 columns]"
      ]
     },
     "execution_count": 21,
     "metadata": {},
     "output_type": "execute_result"
    }
   ],
   "source": [
    "x"
   ]
  },
  {
   "cell_type": "code",
   "execution_count": 22,
   "id": "0467f21d",
   "metadata": {},
   "outputs": [],
   "source": [
    "from sklearn.model_selection import train_test_split\n",
    "x_train,y_train,x_test,y_test=train_test_split(x,y,test_size=0.2)"
   ]
  },
  {
   "cell_type": "code",
   "execution_count": 23,
   "id": "ee4e8679",
   "metadata": {},
   "outputs": [],
   "source": [
    "from sklearn.linear_model import LinearRegression\n",
    "reg=LinearRegression()"
   ]
  },
  {
   "cell_type": "code",
   "execution_count": 24,
   "id": "81dbd643",
   "metadata": {},
   "outputs": [
    {
     "data": {
      "text/plain": [
       "LinearRegression()"
      ]
     },
     "execution_count": 24,
     "metadata": {},
     "output_type": "execute_result"
    }
   ],
   "source": [
    "reg.fit(x,y)"
   ]
  },
  {
   "cell_type": "code",
   "execution_count": 25,
   "id": "fd8e1018",
   "metadata": {},
   "outputs": [
    {
     "name": "stderr",
     "output_type": "stream",
     "text": [
      "C:\\Users\\pousalo\\anaconda3\\lib\\site-packages\\sklearn\\base.py:450: UserWarning: X does not have valid feature names, but LinearRegression was fitted with feature names\n",
      "  warnings.warn(\n"
     ]
    },
    {
     "data": {
      "text/plain": [
       "array([[4817312.45633743]])"
      ]
     },
     "execution_count": 25,
     "metadata": {},
     "output_type": "execute_result"
    }
   ],
   "source": [
    "reg.predict([[567,4]])"
   ]
  },
  {
   "cell_type": "code",
   "execution_count": 26,
   "id": "bfa926c6",
   "metadata": {},
   "outputs": [
    {
     "data": {
      "text/plain": [
       "0.6861395054899619"
      ]
     },
     "execution_count": 26,
     "metadata": {},
     "output_type": "execute_result"
    }
   ],
   "source": [
    "reg.score(x,y)"
   ]
  }
 ],
 "metadata": {
  "kernelspec": {
   "display_name": "Python 3 (ipykernel)",
   "language": "python",
   "name": "python3"
  },
  "language_info": {
   "codemirror_mode": {
    "name": "ipython",
    "version": 3
   },
   "file_extension": ".py",
   "mimetype": "text/x-python",
   "name": "python",
   "nbconvert_exporter": "python",
   "pygments_lexer": "ipython3",
   "version": "3.9.13"
  }
 },
 "nbformat": 4,
 "nbformat_minor": 5
}
